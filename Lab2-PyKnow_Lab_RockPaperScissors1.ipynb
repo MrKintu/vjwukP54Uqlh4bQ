{
  "cells": [
    {
      "cell_type": "code",
      "execution_count": 116,
      "metadata": {
        "colab": {},
        "colab_type": "code",
        "id": "dEmO_-Tuzgh7"
      },
      "outputs": [],
      "source": [
        "from pyknow import *\n",
        "import random"
      ]
    },
    {
      "cell_type": "markdown",
      "metadata": {
        "colab_type": "text",
        "id": "w_XIiG14UTjx"
      },
      "source": [
        "# Classes"
      ]
    },
    {
      "cell_type": "markdown",
      "metadata": {
        "colab_type": "text",
        "id": "24XibL6hUYCk"
      },
      "source": [
        "## WinTotals"
      ]
    },
    {
      "cell_type": "code",
      "execution_count": 117,
      "metadata": {
        "colab": {},
        "colab_type": "code",
        "id": "4t0lsjKlUaUo"
      },
      "outputs": [],
      "source": [
        "class WinTotals(Fact):\n",
        "    human = Field(int, default=0)\n",
        "    computer = Field(int, default=0)\n",
        "    ties = Field(int, default=0)"
      ]
    },
    {
      "cell_type": "markdown",
      "metadata": {
        "colab_type": "text",
        "id": "JBTnFHgSUeHp"
      },
      "source": [
        "## Results"
      ]
    },
    {
      "cell_type": "code",
      "execution_count": 118,
      "metadata": {
        "colab": {},
        "colab_type": "code",
        "id": "ZxvfODISUg_h"
      },
      "outputs": [],
      "source": [
        "class Results(Fact):\n",
        "    winner = Field(str, mandatory=True)\n",
        "    loser = Field(str, mandatory=True)\n",
        "    why = Field(str, mandatory=True)"
      ]
    },
    {
      "cell_type": "markdown",
      "metadata": {
        "colab_type": "text",
        "id": "a2egmwPEUlg6"
      },
      "source": [
        "## ValidAnswer"
      ]
    },
    {
      "cell_type": "code",
      "execution_count": 119,
      "metadata": {
        "colab": {},
        "colab_type": "code",
        "id": "Np3zY2k3Unv5"
      },
      "outputs": [],
      "source": [
        "class ValidAnswer(Fact):\n",
        "    answer = Field(str, mandatory=True)\n",
        "    key = Field(str, mandatory=True)"
      ]
    },
    {
      "cell_type": "markdown",
      "metadata": {
        "colab_type": "text",
        "id": "C3UVVV3VVZ5t"
      },
      "source": [
        "## Action, HumanChoice, ComputerChoice"
      ]
    },
    {
      "cell_type": "code",
      "execution_count": 120,
      "metadata": {
        "colab": {},
        "colab_type": "code",
        "id": "M-fDOX4dVeQJ"
      },
      "outputs": [],
      "source": [
        "class Action(Fact):\n",
        "    pass\n",
        "\n",
        "\n",
        "class HumanChoice(Fact):\n",
        "    pass\n",
        "\n",
        "\n",
        "class ComputerChoice(Fact):\n",
        "    pass"
      ]
    },
    {
      "cell_type": "markdown",
      "metadata": {
        "colab_type": "text",
        "id": "j_-ABPvOViAO"
      },
      "source": [
        "## RockPaperScissors"
      ]
    },
    {
      "cell_type": "code",
      "execution_count": 121,
      "metadata": {
        "colab": {},
        "colab_type": "code",
        "id": "pg51bvnRBXKX"
      },
      "outputs": [],
      "source": [
        "# Subclass KnowledgeEngine\n",
        "# declaring facts: declare(Fact()) \n",
        "# retracting facts: retract(Fact())\n",
        "\n",
        "class RockPaperScissors(KnowledgeEngine):\n",
        "    \n",
        "    @DefFacts()\n",
        "    def game_rules(self):\n",
        "        \"\"\"Declare game rules and valid input keys for the user.\"\"\"\n",
        "        print('DefFacts: setting up game rules.')\n",
        "        self.valid_answers = dict()\n",
        "        \n",
        "        yield Results(winner='rock', loser='scissors', why='Rock smashes scissors')\n",
        "        yield Results(winner='paper', loser='rock', why='Paper covers rock')\n",
        "        yield Results(winner='scissors', loser='paper', why='Scissors cut paper')\n",
        "        yield ValidAnswer(answer='rock', key='r')\n",
        "        yield ValidAnswer(answer='paper', key='p')\n",
        "        yield ValidAnswer(answer='scissors', key='s')\n",
        "\n",
        "        print('All rules in place ...')\n",
        "\n",
        "  \n",
        "    \n",
        "    @Rule() \n",
        "    def startup(self):\n",
        "        print(\"Lets play a game!\")\n",
        "        print(\"You choose rock, paper, or scissors,\")\n",
        "        print(\"and I'll do the same.\")\n",
        "        self.declare(WinTotals(human=0, computer=0, ties=0))\n",
        "        self.declare(Action('get-human-move'))\n",
        "    \n",
        "    @Rule(NOT(Action()), \n",
        "          ValidAnswer(answer=MATCH.answer, key=MATCH.key))\n",
        "    def store_valid_answers(self, answer, key):\n",
        "        print('store_valid_answers', key, answer)\n",
        "        self.valid_answers[key] = answer\n",
        "\n",
        "    #\n",
        "    # HUMAN MOVE RULES\n",
        "    #\n",
        "        \n",
        "    @Rule(Action('get-human-move'))\n",
        "    def get_human_move(self):\n",
        "        question = \", \".join(\"{name} ({key})\".format(name=a[1].title(), \n",
        "                                                     key=a[0].upper()) for a in self.valid_answers.items()) + '? '\n",
        "        res = input(question).lower()\n",
        "        self.declare(HumanChoice(res))\n",
        "    \n",
        "    @Rule(AS.f1 << HumanChoice(MATCH.choice),\n",
        "          ValidAnswer(answer=MATCH.answer, key=MATCH.choice),\n",
        "          AS.f2 << Action('get-human-move'))\n",
        "    def good_human_move(self, f1, f2, answer):\n",
        "        self.retract(f1)\n",
        "        self.retract(f2)\n",
        "        self.declare(HumanChoice(answer))\n",
        "        self.declare(Action('get-computer-move'))\n",
        "    \n",
        "    # retracting a rule from inference engine\n",
        "    # retract() Removes an existing fact from the factlis\n",
        "    @Rule(AS.f1 << HumanChoice(MATCH.choice),\n",
        "          NOT(ValidAnswer(key=MATCH.choice)),\n",
        "          AS.f2 << Action('get-human-move'))\n",
        "    def bad_human_move(self, f1, f2, choice):\n",
        "        print(\"Sorry %s is not a valid answer\" % choice)\n",
        "        self.retract(f1)\n",
        "        self.retract(f2)\n",
        "        self.declare(Action('get-human-move'))\n",
        "    \n",
        "    #\n",
        "    # COMPUTER MOVE RULES\n",
        "    #\n",
        "    @Rule(AS.f1 << Action('get-computer-move'))\n",
        "    def get_computer_move(self, f1):\n",
        "        choice = random.choice(list(self.valid_answers.values()))\n",
        "        self.retract(f1)\n",
        "        self.declare(ComputerChoice(choice))\n",
        "        self.declare(Action('determine-results'))\n",
        "\n",
        "    #\n",
        "    # WIN DETERMINATION RULES\n",
        "    #\n",
        "    @Rule(AS.f1 << Action('determine-results'),\n",
        "          AS.f2 << ComputerChoice(MATCH.cc),\n",
        "          AS.f3 << HumanChoice(MATCH.hc),\n",
        "          AS.w << WinTotals(computer=MATCH.cw),\n",
        "          Results(winner=MATCH.cc, loser=MATCH.hc, why=MATCH.explanation))\n",
        "    def computer_wins(self, f1, f2, f3, w, cw, explanation):\n",
        "        self.retract(f1)\n",
        "        self.retract(f2)\n",
        "        self.retract(f3)\n",
        "        self.modify(w, computer=cw + 1)\n",
        "        print(\"Computer wins!\", explanation)\n",
        "        self.declare(Action('determine-play-again'))\n",
        "        \n",
        "    @Rule(AS.f1 << Action('determine-results'),\n",
        "          AS.f2 << ComputerChoice(MATCH.cc),\n",
        "          AS.f3 << HumanChoice(MATCH.hc),\n",
        "          'w' << WinTotals(human=MATCH.hw),\n",
        "          Results(winner=MATCH.hc, loser=MATCH.cc, why=MATCH.explanation))\n",
        "    def humans_wins(self, f1, f2, f3, w, hw, explanation):\n",
        "        self.retract(f1)\n",
        "        self.retract(f2)\n",
        "        self.retract(f3)\n",
        "        self.modify(w, human=hw + 1)\n",
        "        print(\"You win!\", explanation)\n",
        "        self.declare(Action('determine-play-again'))\n",
        "        \n",
        "    # @Rule(AS.f1 << Action('determine-results'),\n",
        "    #       AS.f2 << ComputerChoice(MATCH.cc),\n",
        "    #       AS.f3 << HumanChoice(MATCH.cc),\n",
        "    #       AS.w << WinTotals(ties=MATCH.nt))\n",
        "    # def tie(self, f1, f2, f3, w, nt):\n",
        "    #     self.retract(f1)\n",
        "    #     self.retract(f2)\n",
        "    #     self.retract(f3)\n",
        "    #     self.modify(w, ties=nt + 1)\n",
        "    #     print(\"Tie! Ha-ha!\")\n",
        "    #     self.declare(Action('determine-play-again'))\n",
        "    \n",
        "    #\n",
        "    # PLAY AGAIN RULE\n",
        "    #\n",
        "    @Rule(AS.f1 << Action('determine-play-again'),\n",
        "          WinTotals(computer=MATCH.ct, human=MATCH.ht, ties=MATCH.tt))\n",
        "    def play_again(self, f1, ct, ht, tt):\n",
        "        self.retract(f1)\n",
        "        if not self.yes_or_no(\"Play again?\"):\n",
        "            print(\"You won\", ht, \"game(s).\")\n",
        "            print(\"Computer won\", ct, \"game(s).\")\n",
        "            print(\"We tied\", tt, \"game(s).\")\n",
        "            self.halt()\n",
        "        else:\n",
        "            self.declare(Action('get-human-move'))\n",
        "\n",
        "    def yes_or_no(self, question):\n",
        "        return input(question).upper().startswith('Y')"
      ]
    },
    {
      "cell_type": "markdown",
      "metadata": {
        "colab_type": "text",
        "id": "sZyQeSis6MEd"
      },
      "source": [
        "# Play"
      ]
    },
    {
      "cell_type": "code",
      "execution_count": 122,
      "metadata": {
        "colab": {},
        "colab_type": "code",
        "id": "k50k3Lym2i04"
      },
      "outputs": [],
      "source": [
        "rps = RockPaperScissors()"
      ]
    },
    {
      "cell_type": "code",
      "execution_count": 123,
      "metadata": {
        "colab": {
          "base_uri": "https://localhost:8080/",
          "height": 286
        },
        "colab_type": "code",
        "id": "LzVmMwp8Bigj",
        "outputId": "3e46bc79-6825-49db-d428-bd5e6b8af80e"
      },
      "outputs": [
        {
          "name": "stdout",
          "output_type": "stream",
          "text": [
            "DefFacts: setting up game rules.\n",
            "All rules in place ...\n",
            "store_valid_answers s scissors\n",
            "store_valid_answers p paper\n",
            "store_valid_answers r rock\n",
            "Lets play a game!\n",
            "You choose rock, paper, or scissors,\n",
            "and I'll do the same.\n",
            "Computer wins! Paper covers rock\n",
            "You win! Rock smashes scissors\n",
            "You win! Scissors cut paper\n",
            "You win! Paper covers rock\n",
            "Computer wins! Rock smashes scissors\n",
            "You win! Rock smashes scissors\n",
            "You won 4 game(s).\n",
            "Computer won 2 game(s).\n",
            "We tied 0 game(s).\n"
          ]
        }
      ],
      "source": [
        "rps.reset()\n",
        "rps.run()"
      ]
    }
  ],
  "metadata": {
    "colab": {
      "collapsed_sections": [],
      "name": "PyKnow_Lab_RockPaperScissors.ipynb",
      "provenance": []
    },
    "kernelspec": {
      "display_name": "Python 3",
      "name": "python3"
    },
    "language_info": {
      "codemirror_mode": {
        "name": "ipython",
        "version": 3
      },
      "file_extension": ".py",
      "mimetype": "text/x-python",
      "name": "python",
      "nbconvert_exporter": "python",
      "pygments_lexer": "ipython3",
      "version": "3.12.0"
    }
  },
  "nbformat": 4,
  "nbformat_minor": 0
}
